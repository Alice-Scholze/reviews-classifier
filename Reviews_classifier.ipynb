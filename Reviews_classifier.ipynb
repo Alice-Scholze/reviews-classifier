{
 "cells": [
  {
   "cell_type": "code",
   "execution_count": 1,
   "metadata": {},
   "outputs": [],
   "source": [
    "import sys\n",
    "from sklearn.feature_extraction.text import TfidfVectorizer\n",
    "from sklearn.svm import LinearSVC\n",
    "from sklearn.pipeline import Pipeline\n",
    "from sklearn.model_selection import GridSearchCV\n",
    "from sklearn.datasets import load_files\n",
    "from sklearn.model_selection import train_test_split\n",
    "from sklearn import metrics\n",
    "from sklearn.feature_extraction.text import CountVectorizer\n",
    "from sklearn.feature_extraction.text import TfidfTransformer\n",
    "from sklearn.naive_bayes import MultinomialNB\n",
    "import numpy as np\n",
    "import pylab as plt"
   ]
  },
  {
   "cell_type": "markdown",
   "metadata": {},
   "source": [
    "We start by loading the data set and dividing it between test and training data"
   ]
  },
  {
   "cell_type": "code",
   "execution_count": 2,
   "metadata": {},
   "outputs": [],
   "source": [
    "movie_reviews_data_folder = r\"./data\"\n",
    "dataset = load_files(movie_reviews_data_folder, shuffle=False)\n",
    "\n",
    "docs_train, docs_test, y_train, y_test = train_test_split(\n",
    "    dataset.data, dataset.target, test_size=0.25, random_state=None)"
   ]
  },
  {
   "cell_type": "markdown",
   "metadata": {},
   "source": [
    "Show target names"
   ]
  },
  {
   "cell_type": "code",
   "execution_count": 3,
   "metadata": {},
   "outputs": [
    {
     "data": {
      "text/plain": [
       "['neg', 'pos']"
      ]
     },
     "execution_count": 3,
     "metadata": {},
     "output_type": "execute_result"
    }
   ],
   "source": [
    "dataset.target_names"
   ]
  },
  {
   "cell_type": "markdown",
   "metadata": {},
   "source": [
    "`generate_confusion_matrix` method will be use to print a confusion matrix by predicted and target data"
   ]
  },
  {
   "cell_type": "code",
   "execution_count": 4,
   "metadata": {},
   "outputs": [],
   "source": [
    "def generate_confusion_matrix(y_test, y_predicted, labels):\n",
    "    cm = metrics.confusion_matrix(y_test, y_predicted)\n",
    "    \n",
    "    print(\"Confusion matrix: \")\n",
    "    print(cm)\n",
    "    \n",
    "    fig = plt.figure()\n",
    "    ax = fig.add_subplot(111)\n",
    "    cax = ax.matshow(cm)\n",
    "    \n",
    "    fig.colorbar(cax)\n",
    "    \n",
    "    ax.set_xticklabels([''] + labels)\n",
    "    ax.set_yticklabels([''] + labels)\n",
    "    \n",
    "    plt.show()"
   ]
  },
  {
   "cell_type": "markdown",
   "metadata": {},
   "source": [
    "`result_report` method below will be use to listing the best parameters used by classifiers"
   ]
  },
  {
   "cell_type": "code",
   "execution_count": 5,
   "metadata": {},
   "outputs": [],
   "source": [
    "def result_report(classifier, docs_test, y_test, labels):\n",
    "    y_predicted = classifier.predict(docs_test)\n",
    "\n",
    "    print(\"Mean asserts: \", np.mean(y_predicted == y_test))\n",
    "    \n",
    "    print(\"Classification report: \")\n",
    "    print(metrics.classification_report(y_test, y_predicted,\n",
    "                                        target_names=dataset.target_names))\n",
    "\n",
    "    cm = metrics.confusion_matrix(y_test, y_predicted)\n",
    "    generate_confusion_matrix(y_test, y_predicted, labels)\n",
    "    print(\"-------------------------------------------\")"
   ]
  },
  {
   "cell_type": "markdown",
   "metadata": {},
   "source": [
    "`run_grid_search` method is responsable to make the parameters tests with received pipeline and your parameters. And so returns the best classifier."
   ]
  },
  {
   "cell_type": "code",
   "execution_count": 6,
   "metadata": {},
   "outputs": [],
   "source": [
    "def run_grid_search(pipeline, parameters, docs_train, y_train):\n",
    "    gs_clf = GridSearchCV(pipeline, parameters, n_jobs=-1)\n",
    "\n",
    "    gs_clf = gs_clf.fit(docs_train, y_train)\n",
    "\n",
    "    print(\"Best score: \", gs_clf.best_score_)\n",
    "\n",
    "    print(\"Best parameters: \")\n",
    "    for param_name in sorted(parameters.keys()):\n",
    "        print(\"%s: %r\" % (param_name, gs_clf.best_params_[param_name]))\n",
    "        \n",
    "    return gs_clf"
   ]
  },
  {
   "cell_type": "markdown",
   "metadata": {},
   "source": [
    "## MultinomialNB classifier"
   ]
  },
  {
   "cell_type": "markdown",
   "metadata": {},
   "source": [
    "Below is create a pipeline to:\n",
    "    - runs `CountVectorizer` to build a bag of words\n",
    "    - runs `TfidfTransformer` to work with the words frequency\n",
    "    - uses the `MultinomialNB` classifier"
   ]
  },
  {
   "cell_type": "code",
   "execution_count": 7,
   "metadata": {},
   "outputs": [],
   "source": [
    "tfidf_pipeline = Pipeline([('vect', CountVectorizer()),\n",
    "                     ('tfidf', TfidfTransformer()),\n",
    "                     ('clf', MultinomialNB()),\n",
    "])"
   ]
  },
  {
   "cell_type": "markdown",
   "metadata": {},
   "source": [
    "Now, is defined what params will be test by the `GridSearchCV`"
   ]
  },
  {
   "cell_type": "code",
   "execution_count": 8,
   "metadata": {},
   "outputs": [],
   "source": [
    "tfidf_parameters = {'vect__ngram_range': [(1, 1), (1, 2), (1, 3)],\n",
    "              'tfidf__use_idf': (True, False),\n",
    "              'clf__alpha': (1e-2, 1e-3, 1e-4, 1e-5),\n",
    "}"
   ]
  },
  {
   "cell_type": "markdown",
   "metadata": {},
   "source": [
    "Runs `run grid search` with defined variables above and next see obteds results with `MultinomialNB` classifier"
   ]
  },
  {
   "cell_type": "code",
   "execution_count": 9,
   "metadata": {},
   "outputs": [
    {
     "name": "stdout",
     "output_type": "stream",
     "text": [
      "Best score:  0.8386666666666667\n",
      "Best parameters: \n",
      "clf__alpha: 0.01\n",
      "tfidf__use_idf: False\n",
      "vect__ngram_range: (1, 2)\n",
      "Mean asserts:  0.822\n",
      "Classification report: \n",
      "              precision    recall  f1-score   support\n",
      "\n",
      "         neg       0.85      0.81      0.83       269\n",
      "         pos       0.79      0.84      0.81       231\n",
      "\n",
      "    accuracy                           0.82       500\n",
      "   macro avg       0.82      0.82      0.82       500\n",
      "weighted avg       0.82      0.82      0.82       500\n",
      "\n",
      "Confusion matrix: \n",
      "[[217  52]\n",
      " [ 37 194]]\n"
     ]
    },
    {
     "data": {
      "image/png": "[encoded data removed]",
      "text/plain": [
       "<Figure size 432x288 with 2 Axes>"
      ]
     },
     "metadata": {
      "needs_background": "light"
     },
     "output_type": "display_data"
    },
    {
     "name": "stdout",
     "output_type": "stream",
     "text": [
      "-------------------------------------------\n"
     ]
    }
   ],
   "source": [
    "tfidf_classifier = run_grid_search(tfidf_pipeline, tfidf_parameters, docs_train, y_train)\n",
    "tfidf_results = result_report(tfidf_classifier, docs_test, y_test, dataset.target_names)\n",
    "tfidf_results"
   ]
  },
  {
   "cell_type": "markdown",
   "metadata": {},
   "source": [
    "## LinearSVC classifier"
   ]
  },
  {
   "cell_type": "markdown",
   "metadata": {},
   "source": [
    "Below is made the same processing, but now with the `LinearSVC` classifier"
   ]
  },
  {
   "cell_type": "code",
   "execution_count": 10,
   "metadata": {},
   "outputs": [],
   "source": [
    "ln_svc_pipeline = Pipeline([('vect', CountVectorizer()),\n",
    "                     ('tfidf', TfidfTransformer()),\n",
    "                     ('clf', LinearSVC()),\n",
    "])"
   ]
  },
  {
   "cell_type": "code",
   "execution_count": 11,
   "metadata": {},
   "outputs": [],
   "source": [
    "ln_svc_parameters = {'vect__ngram_range': [(1, 1), (1, 2)],\n",
    "              'tfidf__use_idf': (True, False),\n",
    "              'clf__random_state': (0, None),\n",
    "              'clf__tol': (1e-5, 1e-6),\n",
    "}"
   ]
  },
  {
   "cell_type": "code",
   "execution_count": 12,
   "metadata": {},
   "outputs": [
    {
     "name": "stdout",
     "output_type": "stream",
     "text": [
      "Best score:  0.8440000000000001\n",
      "Best parameters: \n",
      "clf__random_state: 0\n",
      "clf__tol: 1e-05\n",
      "tfidf__use_idf: True\n",
      "vect__ngram_range: (1, 1)\n",
      "Mean asserts:  0.852\n",
      "Classification report: \n",
      "              precision    recall  f1-score   support\n",
      "\n",
      "         neg       0.88      0.84      0.86       269\n",
      "         pos       0.83      0.86      0.84       231\n",
      "\n",
      "    accuracy                           0.85       500\n",
      "   macro avg       0.85      0.85      0.85       500\n",
      "weighted avg       0.85      0.85      0.85       500\n",
      "\n",
      "Confusion matrix: \n",
      "[[227  42]\n",
      " [ 32 199]]\n"
     ]
    },
    {
     "data": {
      "image/png": "[encoded data removed]",
      "text/plain": [
       "<Figure size 432x288 with 2 Axes>"
      ]
     },
     "metadata": {
      "needs_background": "light"
     },
     "output_type": "display_data"
    },
    {
     "name": "stdout",
     "output_type": "stream",
     "text": [
      "-------------------------------------------\n"
     ]
    }
   ],
   "source": [
    "ln_svc_classifier = run_grid_search(ln_svc_pipeline, ln_svc_parameters, docs_train, y_train)\n",
    "ln_svc_results = result_report(ln_svc_classifier, docs_test, y_test, dataset.target_names)\n",
    "ln_svc_results"
   ]
  },
  {
   "cell_type": "markdown",
   "metadata": {},
   "source": [
    "## Conclusion"
   ]
  },
  {
   "cell_type": "markdown",
   "metadata": {},
   "source": [
    "The two classifiers obtained close results, entertaining or LinearSVC obtained the best result reaching the score of 84% while MultinomialNB registered 83%. <br>\n",
    "For both classifiers used in the CountVectorizer and TfidfTransformer pipeline, but each classifier used improves results with different parameters: <br>\n",
    "MultinomialNB: <br>\n",
    "- CountVectorizer.ngram_range: (1, 2)\n",
    "- TfidfTransformer.use_idf: False\n",
    "LinearSVC:\n",
    "- CountVectorizer.ngram_range: (1, 1)\n",
    "- TfidfTransformer.use_idf: True\n",
    "\n",
    "The classification report was also different, as LinearSVC had higher values ​​for both accuracy and recall.\n",
    "Likewise, a confusion matrix results in very approximate values, generating a graph with the same color intensity."
   ]
  }
 ],
 "metadata": {
  "kernelspec": {
   "display_name": "Python 3",
   "language": "python",
   "name": "python3"
  },
  "language_info": {
   "codemirror_mode": {
    "name": "ipython",
    "version": 3
   },
   "file_extension": ".py",
   "mimetype": "text/x-python",
   "name": "python",
   "nbconvert_exporter": "python",
   "pygments_lexer": "ipython3",
   "version": "3.7.6"
  }
 },
 "nbformat": 4,
 "nbformat_minor": 4
}
